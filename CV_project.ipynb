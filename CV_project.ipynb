{
  "nbformat": 4,
  "nbformat_minor": 0,
  "metadata": {
    "colab": {
      "name": "LAST_CV_project.ipynb",
      "provenance": [],
      "collapsed_sections": []
    },
    "kernelspec": {
      "name": "python3",
      "display_name": "Python 3"
    }
  },
  "cells": [
    {
      "cell_type": "code",
      "metadata": {
        "id": "fxO2NnaNmASO",
        "colab_type": "code",
        "colab": {}
      },
      "source": [
        "# all plots will be set directly below the code cell that produced it\n",
        "%matplotlib inline\n",
        "from matplotlib import pyplot as plt\n",
        "from IPython.display import clear_output\n",
        "# set inline plots size\n",
        "import math\n",
        "import numpy as np\n",
        "import time\n",
        "import os\n",
        "import cv2\n",
        "from google.colab.patches import cv2_imshow\n",
        "import zipfile\n",
        "import tarfile\n",
        "from collections import namedtuple\n",
        "from google.colab.patches import cv2_imshow\n",
        "from xml.dom import minidom\n",
        "import pandas as pd\n",
        "from google.colab import files\n",
        "import csv"
      ],
      "execution_count": 0,
      "outputs": []
    },
    {
      "cell_type": "code",
      "metadata": {
        "id": "WPI5OHmPpxQv",
        "colab_type": "code",
        "colab": {}
      },
      "source": [
        "!git clone 'https://github.com/UralmashFox/CV_Project'\n",
        "%cd CV_Project\n",
        "df1 = pd.read_csv('book.csv', na_values='-', sep = ';') \n",
        "df1 = df1.fillna(0)\n",
        "!pip install patool\n",
        "import patoolib\n",
        "patoolib.extract_archive(\"pngs.rar\", outdir=\"/content\")\n",
        "%cd .."
      ],
      "execution_count": 0,
      "outputs": []
    },
    {
      "cell_type": "code",
      "metadata": {
        "id": "BfhvFvab_rrs",
        "colab_type": "code",
        "outputId": "79a9e071-e742-433f-df87-8431c07b5936",
        "colab": {
          "base_uri": "https://localhost:8080/",
          "height": 50
        }
      },
      "source": [
        "import nltk\n",
        "nltk.download('punkt')\n",
        "from nltk import tokenize"
      ],
      "execution_count": 261,
      "outputs": [
        {
          "output_type": "stream",
          "text": [
            "[nltk_data] Downloading package punkt to /root/nltk_data...\n",
            "[nltk_data]   Package punkt is already up-to-date!\n"
          ],
          "name": "stdout"
        }
      ]
    },
    {
      "cell_type": "code",
      "metadata": {
        "id": "3m2krPQmfXTG",
        "colab_type": "code",
        "colab": {}
      },
      "source": [
        " def to_BoWs(sentances):\n",
        "  i = 0\n",
        "  BoW = []\n",
        "  all_BoW = []\n",
        "  for sentance in sentances:\n",
        "    words = sentance.split()\n",
        "    BoW = []\n",
        "    for word in words:\n",
        "      word = word.lower()\n",
        "      word = word.replace('.', '')\n",
        "      word = word.replace('!', '')\n",
        "      word = word.replace(',', '')\n",
        "      word = word.replace('-', '')\n",
        "      word = word.replace(':', '')\n",
        "      BoW.append(word)\n",
        "    all_BoW.append(BoW)\n",
        "  return(all_BoW)"
      ],
      "execution_count": 0,
      "outputs": []
    },
    {
      "cell_type": "code",
      "metadata": {
        "id": "97TkKataYycH",
        "colab_type": "code",
        "colab": {}
      },
      "source": [
        " def get_info (all_BoW): \n",
        "  obj = df1.obj\n",
        "  code = df1.code\n",
        "  flip = df1.flip\n",
        "  axis_x = df1.x\n",
        "  axis_y = df1.y\n",
        "  all_ID = []\n",
        "  true_ID = []\n",
        "  all_flip = []\n",
        "  all_y = []\n",
        "  all_x = []\n",
        "\n",
        "  for BoW in all_BoW:\n",
        "    num = 0\n",
        "    val = 0\n",
        "    ID = []\n",
        "    y = []\n",
        "    x = []\n",
        "    flips = []\n",
        "    x_h = 0\n",
        "    y_h = 0\n",
        "    for word in BoW:\n",
        "      for index, row in enumerate(obj):\n",
        "        if word == row:\n",
        "          try:\n",
        "            val = int(code[index])\n",
        "            num = num+val\n",
        "          except:\n",
        "            ID.append(code[index])\n",
        "            flips.append(flip[index])\n",
        "            try:\n",
        "              x.append(float(axis_x[index].replace(',', '.')))\n",
        "              y.append(float(axis_y[index].replace(',', '.')))\n",
        "            except:\n",
        "              if isinstance(axis_x[index], int): x.append(axis_x[index])\n",
        "              else: x.append(x[len(x)-1])\n",
        "              if isinstance(axis_y[index], int): y.append(axis_y[index])\n",
        "              else: y.append(y[len(y)-1])\n",
        "\n",
        "    ID.append(num)\n",
        "    all_x.append(x)\n",
        "    all_y.append(y)\n",
        "    all_ID.append(ID)\n",
        "    all_flip.append(flips)\n",
        "  return(all_ID, all_flip, all_x, all_y)"
      ],
      "execution_count": 0,
      "outputs": []
    },
    {
      "cell_type": "code",
      "metadata": {
        "id": "NaIoxWKpeX74",
        "colab_type": "code",
        "colab": {}
      },
      "source": [
        " def real_ID(all_ID):\n",
        "  trueID = []\n",
        "  for IDs in all_ID:\n",
        "    ident = []\n",
        "    for id in IDs:\n",
        "      if (id == 'hb0') or (id == 'hb1'):\n",
        "        true_id = str(id) + '_' + str(IDs[len(IDs)-1]) + 's'\n",
        "        ident.append(true_id)\n",
        "      elif not isinstance(id, int):\n",
        "        true_id = id\n",
        "        ident.append(true_id)\n",
        "    trueID.append(ident)\n",
        "  return(trueID)"
      ],
      "execution_count": 0,
      "outputs": []
    },
    {
      "cell_type": "code",
      "metadata": {
        "id": "elm-KWf5fj4K",
        "colab_type": "code",
        "colab": {}
      },
      "source": [
        "def to_background(background, image, x,y):\n",
        "  hi, wi, ci = image.shape\n",
        "  hb, wb, cb = background.shape\n",
        "  for w in range(0, wi):\n",
        "    for h in range (0, hi):\n",
        "      if not (image[h][w][3] == 0 ):\n",
        "        background[int(h+hb*y), int(x*wb+w)] = image[h][w]\n",
        "  return(background)"
      ],
      "execution_count": 0,
      "outputs": []
    },
    {
      "cell_type": "code",
      "metadata": {
        "id": "CZyXveeChqEy",
        "colab_type": "code",
        "colab": {}
      },
      "source": [
        "def to_one_array(images, flips, all_x, all_y):\n",
        "  back_i = []\n",
        "  back_f = []\n",
        "  back_x = []\n",
        "  back_y = []\n",
        "\n",
        "  for image in images:\n",
        "    for img in image:\n",
        "      back_i.append(img)\n",
        "  for flip in flips:\n",
        "    for flp in flip:\n",
        "      back_f.append(flp)\n",
        "  for X in all_x:\n",
        "    for x in X:\n",
        "      back_x.append(x)\n",
        "  for Y in all_y:\n",
        "    for y in Y:\n",
        "      back_y.append(y)\n",
        "  return(back_i, back_f, back_x, back_y)"
      ],
      "execution_count": 0,
      "outputs": []
    },
    {
      "cell_type": "code",
      "metadata": {
        "id": "Pz5kqICoemSv",
        "colab_type": "code",
        "colab": {}
      },
      "source": [
        " def text2img(all_ID, all_flip, all_x, all_y): \n",
        "  background =  cv2.imread('background.png', cv2.IMREAD_UNCHANGED)\n",
        "  images, flips, x, y = to_one_array(trueID, all_flip, all_x, all_y)\n",
        "  # print(images, flips, x, y)\n",
        "  for IMG in images:\n",
        "    img = IMG + '.png'\n",
        "    image = cv2.imread(img, cv2.IMREAD_UNCHANGED)\n",
        "    if images.index(IMG) < len(images)-1:\n",
        "      if x[images.index(IMG)+1] == x[images.index(IMG)] and y[images.index(IMG)+1] == y[images.index(IMG)]:\n",
        "        x[images.index(IMG)+1] = x[images.index(IMG)+1] + x[images.index(IMG)]*3/30\n",
        "        y[images.index(IMG)+1] = y[images.index(IMG)+1]-image.shape[0]/2500\n",
        "      # print(x[images.index(IMG)+1] == x[images.index(IMG)] and y[images.index(IMG)+1] == y[images.index(IMG)])\n",
        "    if flips[images.index(IMG)]:\n",
        "      image = cv2.flip(image, 1)\n",
        "    try:\n",
        "      background = to_background(background, image, x[images.index(IMG)], y[images.index(IMG)])\n",
        "    except:\n",
        "      image = cv2.resize(image, (int(image.shape[0]/4), int(image.shape[1]/2)))\n",
        "      background = to_background(background, image, x[images.index(IMG)], y[images.index(IMG)])\n",
        "    # cv2_imshow(image)\n",
        "  return(background)"
      ],
      "execution_count": 0,
      "outputs": []
    },
    {
      "cell_type": "code",
      "metadata": {
        "id": "Z3B6G3xFBbRm",
        "colab_type": "code",
        "colab": {
          "base_uri": "https://localhost:8080/",
          "height": 417
        },
        "outputId": "f5fa2fcd-36ee-49f0-b54f-11a38b10eaf0"
      },
      "source": [
        "text = \"On the table there is a drink and hotdog\"\n",
        "#step by step: -1- split sentances -2- split words -3- find IDs, coordinates, flips -4- find name of img files -5- images to background\n",
        "sentances = tokenize.sent_tokenize(text)\n",
        "all_BoW = to_BoWs(sentances)\n",
        "all_ID, all_flip, all_x, all_y = get_info(all_BoW)\n",
        "trueID = real_ID(all_ID)\n",
        "final_image = text2img(all_ID, all_flip, all_x, all_y)\n",
        "cv2_imshow(final_image)"
      ],
      "execution_count": 299,
      "outputs": [
        {
          "output_type": "display_data",
          "data": {
            "image/png": "[encoded data removed]",
            "text/plain": [
              "<PIL.Image.Image image mode=RGBA size=500x400 at 0x7F32805E4B70>"
            ]
          },
          "metadata": {
            "tags": []
          }
        }
      ]
    }
  ]
}