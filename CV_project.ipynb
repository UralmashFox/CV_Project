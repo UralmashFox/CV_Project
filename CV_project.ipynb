{
 "cells": [
  {
   "cell_type": "code",
   "execution_count": 0,
   "metadata": {
    "id": "fxO2NnaNmASO",
    "colab_type": "code",
    "colab": {}
   },
   "outputs": [],
   "source": [
    "# all plots will be set directly below the code cell that produced it\n",
    "%matplotlib inline\n",
    "from matplotlib import pyplot as plt\n",
    "from IPython.display import clear_output\n",
    "# set inline plots size\n",
    "plt.rcParams[\"figure.figsize\"] = (16, 10) # (w, h)\n",
    "import numpy as np\n",
    "import time\n",
    "import os\n",
    "import cv2\n",
    "import zipfile\n",
    "import tarfile\n",
    "from collections import namedtuple\n",
    "from google.colab.patches import cv2_imshow\n",
    "from xml.dom import minidom\n",
    "import pandas as pd\n",
    "from google.colab import files"
   ]
  },
  {
   "cell_type": "code",
   "execution_count": 0,
   "metadata": {
    "id": "WPI5OHmPpxQv",
    "colab_type": "code",
    "colab": {}
   },
   "outputs": [],
   "source": [
    "!wget \"https://drive.google.com/open?id=1Dbr2NMBlJLrpqvcMG_7Ae3gC4XOcqt3p\" -O dictionary.txt\n",
    "clear_output()"
   ]
  },
  {
   "cell_type": "code",
   "execution_count": 0,
   "metadata": {
    "id": "E3Q4VyMWqFax",
    "colab_type": "code",
    "colab": {}
   },
   "outputs": [],
   "source": [
    "#load images from local disc because IDK how to load from noraml drive!!!! FUCK!!\n",
    "uploaded = files.upload()\n",
    "clear_output()"
   ]
  },
  {
   "cell_type": "code",
   "execution_count": 4,
   "metadata": {
    "id": "BfhvFvab_rrs",
    "colab_type": "code",
    "outputId": "9b08ab7f-5ea0-457c-c8fe-afc756515662",
    "colab": {
     "base_uri": "https://localhost:8080/",
     "height": 50.0
    }
   },
   "outputs": [
    {
     "name": "stdout",
     "output_type": "stream",
     "text": [
      "[nltk_data] Downloading package punkt to /root/nltk_data...\n",
      "[nltk_data]   Unzipping tokenizers/punkt.zip.\n"
     ]
    }
   ],
   "source": [
    "import nltk\n",
    "nltk.download('punkt')\n",
    "from nltk import tokenize"
   ]
  },
  {
   "cell_type": "code",
   "execution_count": 5,
   "metadata": {
    "id": "wE0xhABMAC22",
    "colab_type": "code",
    "outputId": "b745594c-7b29-43bc-f12e-160ed8cc9ff4",
    "colab": {
     "base_uri": "https://localhost:8080/",
     "height": 34.0
    }
   },
   "outputs": [
    {
     "name": "stdout",
     "output_type": "stream",
     "text": [
      "['Mike is sad.', 'Jenny plays ball.', 'sun shines']\n"
     ]
    }
   ],
   "source": [
    "text = \"Mike is sad. Jenny plays ball. sun shines\"\n",
    "# sentance = [\"a\", \"b\" , \"c\"]\n",
    "sentances = tokenize.sent_tokenize(text)\n",
    "print (sentances)"
   ]
  },
  {
   "cell_type": "code",
   "execution_count": 0,
   "metadata": {
    "id": "6kfHlrJqEdPa",
    "colab_type": "code",
    "colab": {}
   },
   "outputs": [],
   "source": [
    "def capital_to_norm(words):\n",
    "  word = [\"a\", \"b\" , \"c\"]\n",
    "  for word in words:\n",
    "    word = word.lower()\n",
    "  return(word)"
   ]
  },
  {
   "cell_type": "code",
   "execution_count": 7,
   "metadata": {
    "id": "3m2krPQmfXTG",
    "colab_type": "code",
    "outputId": "538c4407-145f-44e5-bcd4-c2adf67487e7",
    "colab": {
     "base_uri": "https://localhost:8080/",
     "height": 34.0
    }
   },
   "outputs": [
    {
     "name": "stdout",
     "output_type": "stream",
     "text": [
      "[['mike', 'is', 'sad'], ['jenny', 'plays', 'ball'], ['sun', 'shines']]\n"
     ]
    }
   ],
   "source": [
    "i = 0\n",
    "BoW = []\n",
    "all_BoW = []\n",
    "for sentance in sentances:\n",
    "  words = sentance.split()\n",
    "  BoW = []\n",
    "  for word in words:\n",
    "    word = word.lower()\n",
    "    word = word.replace('.', '')\n",
    "    BoW.append(word)\n",
    "  all_BoW.append(BoW)\n",
    "print(all_BoW)"
   ]
  },
  {
   "cell_type": "code",
   "execution_count": 0,
   "metadata": {
    "id": "P10Fj8qK8q4N",
    "colab_type": "code",
    "colab": {}
   },
   "outputs": [],
   "source": [
    ""
   ]
  },
  {
   "cell_type": "code",
   "execution_count": 0,
   "metadata": {
    "id": "Aw2te1_YGPT5",
    "colab_type": "code",
    "colab": {}
   },
   "outputs": [],
   "source": [
    "# import math\n",
    "# df1 = pd.read_csv('book.csv', na_values='-', sep = ';') \n",
    "# df1 = df1.fillna(0)\n",
    "# obj = df1.obj\n",
    "# code = df1.code\n",
    "# ID = []\n",
    "# all_ID = []\n",
    "# true_ID = []\n",
    "# for BoW in all_BoW:\n",
    "#   num = 0\n",
    "#   ID = []\n",
    "#   for word in BoW:\n",
    "#     for index, row in enumerate(obj):\n",
    "#       if word == row:\n",
    "#           ID.append(code[index])\n",
    "#       if isinstance(code[index], int):\n",
    "#           num = num+code[index]\n",
    "#   all_ID.append(ID)\n",
    "# print(all_ID)"
   ]
  },
  {
   "cell_type": "code",
   "execution_count": 11,
   "metadata": {
    "id": "97TkKataYycH",
    "colab_type": "code",
    "outputId": "c2a3ae6f-21e7-456c-b6b2-2dd1d04a42a7",
    "colab": {
     "base_uri": "https://localhost:8080/",
     "height": 34.0
    }
   },
   "outputs": [
    {
     "name": "stdout",
     "output_type": "stream",
     "text": [
      "[['hb0', 3], ['hb1', 't_2s', 0], ['a_3s', 0]]\n"
     ]
    }
   ],
   "source": [
    "import math\n",
    "df1 = pd.read_csv('book.csv', na_values='-', sep = ';') \n",
    "df1 = df1.fillna(0)\n",
    "obj = df1.obj\n",
    "code = df1.code\n",
    "ID = []\n",
    "all_ID = []\n",
    "true_ID = []\n",
    "for BoW in all_BoW:\n",
    "  num = 0\n",
    "  ID = []\n",
    "  for word in BoW:\n",
    "    for index, row in enumerate(obj):\n",
    "      if word == row:\n",
    "        try:\n",
    "          val = int(code[index])\n",
    "          num = num+val\n",
    "          # print(code[index], 'is num')\n",
    "        except:\n",
    "          ID.append(code[index])\n",
    "  ID.append(num)\n",
    "  all_ID.append(ID)\n",
    "print(all_ID)"
   ]
  },
  {
   "cell_type": "code",
   "execution_count": 0,
   "metadata": {
    "id": "4sQq5tdDZUla",
    "colab_type": "code",
    "colab": {}
   },
   "outputs": [],
   "source": [
    "# trueID = []\n",
    "# ident = []\n",
    "# for IDs in all_ID:\n",
    "#   for id in IDs:\n",
    "#     if (id == 'hb0') or (id == 'hb1'):\n",
    "#       true_id = str(id) + '_' + str(IDs[len(IDs)-1])\n",
    "#       trueID.append(true_id)\n",
    "#     elif not isinstance(id, int):\n",
    "#       true_id = id\n",
    "#       trueID.append(true_id)\n",
    "# print(trueID)"
   ]
  },
  {
   "cell_type": "code",
   "execution_count": 12,
   "metadata": {
    "id": "NaIoxWKpeX74",
    "colab_type": "code",
    "outputId": "133dafd2-d18b-4012-ef7a-c7650b5c4c21",
    "colab": {
     "base_uri": "https://localhost:8080/",
     "height": 34.0
    }
   },
   "outputs": [
    {
     "name": "stdout",
     "output_type": "stream",
     "text": [
      "[['hb0_3s'], ['hb1_0s', 't_2s'], ['a_3s']]\n"
     ]
    }
   ],
   "source": [
    "trueID = []\n",
    "for IDs in all_ID:\n",
    "  ident = []\n",
    "  for id in IDs:\n",
    "    if (id == 'hb0') or (id == 'hb1'):\n",
    "      true_id = str(id) + '_' + str(IDs[len(IDs)-1]) + 's'\n",
    "      ident.append(true_id)\n",
    "    elif not isinstance(id, int):\n",
    "      true_id = id\n",
    "      ident.append(true_id)\n",
    "  trueID.append(ident)\n",
    "print(trueID)"
   ]
  },
  {
   "cell_type": "code",
   "execution_count": 14,
   "metadata": {
    "id": "Pz5kqICoemSv",
    "colab_type": "code",
    "outputId": "f7e52e75-56f3-438b-dd32-2378376f1953",
    "colab": {
     "base_uri": "https://localhost:8080/",
     "height": 630.0
    }
   },
   "outputs": [
    {
     "name": "stdout",
     "output_type": "stream",
     "text": [
      "hb0_3s.png\n"
     ]
    },
    {
     "data": {
      "image/png": "[encoded data removed]",
      "text/plain": [
       "<PIL.Image.Image image mode=RGB size=108x202 at 0x7F8E2A05CC50>"
      ]
     },
     "metadata": {
      "tags": []
     },
     "output_type": "display_data"
    },
    {
     "name": "stdout",
     "output_type": "stream",
     "text": [
      "hb1_0s.png\n"
     ]
    },
    {
     "data": {
      "image/png": "[encoded data removed]",
      "text/plain": [
       "<PIL.Image.Image image mode=RGB size=120x194 at 0x7F8E2A05CE80>"
      ]
     },
     "metadata": {
      "tags": []
     },
     "output_type": "display_data"
    },
    {
     "name": "stdout",
     "output_type": "stream",
     "text": [
      "t_2s.png\n"
     ]
    },
    {
     "data": {
      "image/png": "[encoded data removed]",
      "text/plain": [
       "<PIL.Image.Image image mode=RGB size=78x78 at 0x7F8E2A05CD68>"
      ]
     },
     "metadata": {
      "tags": []
     },
     "output_type": "display_data"
    },
    {
     "name": "stdout",
     "output_type": "stream",
     "text": [
      "a_3s.png\n"
     ]
    },
    {
     "data": {
      "image/png": "[encoded data removed]",
      "text/plain": [
       "<PIL.Image.Image image mode=RGB size=76x72 at 0x7F8E2A05CD68>"
      ]
     },
     "metadata": {
      "tags": []
     },
     "output_type": "display_data"
    }
   ],
   "source": [
    "from google.colab.patches import cv2_imshow\n",
    "for IDs in trueID:\n",
    "  for id in IDs:\n",
    "    img = id + '.png'\n",
    "    print(img)\n",
    "    image = cv2.imread(img, cv2.COLOR_BGR2RGB)\n",
    "    cv2_imshow(image)"
   ]
  },
  {
   "cell_type": "code",
   "execution_count": 53,
   "metadata": {
    "id": "duwE5Yckg14j",
    "colab_type": "code",
    "colab": {
     "base_uri": "https://localhost:8080/",
     "height": 417.0
    },
    "outputId": "c1578328-5e69-41ab-c732-fe663865968a"
   },
   "outputs": [
    {
     "data": {
      "image/png": "[encoded data removed]",
      "text/plain": [
       "<PIL.Image.Image image mode=RGB size=500x400 at 0x7F8E29F7B128>"
      ]
     },
     "metadata": {
      "tags": []
     },
     "output_type": "display_data"
    }
   ],
   "source": [
    "background =  cv2.imread('background.png', cv2.COLOR_BGR2RGB)\n",
    "height, width, channels = image.shape\n",
    "for h in range(0, width):\n",
    "  for w in range (0, height):\n",
    "    if not (image[w][h][2] == 0):\n",
    "      background[273+w, 100+h] = image[w][h]\n",
    "cv2_imshow(background)"
   ]
  }
 ],
 "metadata": {
  "colab": {
   "name": "CV_project.ipynb",
   "provenance": [],
   "collapsed_sections": []
  },
  "kernelspec": {
   "name": "python3",
   "display_name": "Python 3"
  }
 },
 "nbformat": 4,
 "nbformat_minor": 0
}
